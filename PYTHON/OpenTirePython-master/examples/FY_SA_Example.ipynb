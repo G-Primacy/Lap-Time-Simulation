{
 "cells": [
  {
   "cell_type": "markdown",
   "metadata": {
    "deletable": true,
    "editable": true
   },
   "source": [
    "Getting Started with OpenTire w/ Jupyter Notebook\n",
    "============================\n",
    "Generate a lateral force vs slip angle plot"
   ]
  },
  {
   "cell_type": "markdown",
   "metadata": {
    "deletable": true,
    "editable": true
   },
   "source": [
    "Import OpenTire and other libraries used in this demonstration"
   ]
  },
  {
   "cell_type": "code",
   "execution_count": null,
   "metadata": {
    "collapsed": true,
    "deletable": true,
    "editable": true
   },
   "outputs": [],
   "source": [
    "from opentire import OpenTire\n",
    "from opentire.Core import TireState\n",
    "from opentire.Core import TIRFile\n",
    "\n",
    "from pprint import pprint\n",
    "import numpy as np\n",
    "import matplotlib.pyplot as plt"
   ]
  },
  {
   "cell_type": "markdown",
   "metadata": {
    "deletable": true,
    "editable": true
   },
   "source": [
    "Initialize the OpenTire factory and create a Pacejka 2002 tire model"
   ]
  },
  {
   "cell_type": "code",
   "execution_count": null,
   "metadata": {
    "collapsed": true,
    "deletable": true,
    "editable": true
   },
   "outputs": [],
   "source": [
    "openTire = OpenTire()\n",
    "myTireModel = openTire.createmodel('PAC2002')"
   ]
  },
  {
   "cell_type": "markdown",
   "metadata": {
    "deletable": true,
    "editable": true
   },
   "source": [
    "Initialize the tire state"
   ]
  },
  {
   "cell_type": "code",
   "execution_count": null,
   "metadata": {
    "collapsed": true,
    "deletable": true,
    "editable": true
   },
   "outputs": [],
   "source": [
    "state = TireState()\n",
    "\n",
    "state['FZ'] = 1500\n",
    "state['IA'] = 0.0\n",
    "state['SR'] = 0.0\n",
    "state['SA'] = 0.0\n",
    "state['FY'] = 0.0\n",
    "state['V'] = 10.0\n",
    "state['P'] = 260000"
   ]
  },
  {
   "cell_type": "markdown",
   "metadata": {
    "deletable": true,
    "editable": true
   },
   "source": [
    "Solving for the tire forces will update the tire state"
   ]
  },
  {
   "cell_type": "code",
   "execution_count": null,
   "metadata": {
    "collapsed": false,
    "deletable": true,
    "editable": true
   },
   "outputs": [],
   "source": [
    "myTireModel.solve(state)\n",
    "pprint(state)"
   ]
  },
  {
   "cell_type": "markdown",
   "metadata": {
    "deletable": true,
    "editable": true
   },
   "source": [
    "Iterate over vertical loads and slip angles to generate a lateral force vs slip angle plot at three different vertical loads."
   ]
  },
  {
   "cell_type": "code",
   "execution_count": null,
   "metadata": {
    "collapsed": false,
    "deletable": true,
    "editable": true
   },
   "outputs": [],
   "source": [
    "# Setup the simulation range\n",
    "vertical_loads = [500, 1000, 2000]\n",
    "slip_angles = np.arange(-12, 12, 0.1) * 3.14 / 180\n",
    "\n",
    "# Initialize the lateral force result\n",
    "lateral_force = []\n",
    "\n",
    "for fz in vertical_loads:\n",
    "    lateral_force = []\n",
    "    state['FZ'] = fz\n",
    "    \n",
    "    for sa in slip_angles:\n",
    "        # Solving\n",
    "        state['SA'] = sa\n",
    "        myTireModel.solve(state)\n",
    "        lateral_force.append(state['FY'])\n",
    "\n",
    "    # Plot the series\n",
    "    plt.plot(slip_angles * 180 / 3.14, lateral_force, label=fz)\n",
    "\n",
    "# Plotting\n",
    "plt.grid()\n",
    "plt.xlabel('Slip Angle [deg]')\n",
    "plt.ylabel('Lateral Force [N]')\n",
    "plt.title('Lateral Force vs. Slip Angle')\n",
    "plt.show()\n"
   ]
  }
 ],
 "metadata": {
  "kernelspec": {
   "display_name": "Python 2",
   "language": "python",
   "name": "python2"
  },
  "language_info": {
   "codemirror_mode": {
    "name": "ipython",
    "version": 2
   },
   "file_extension": ".py",
   "mimetype": "text/x-python",
   "name": "python",
   "nbconvert_exporter": "python",
   "pygments_lexer": "ipython2",
   "version": "2.7.13"
  }
 },
 "nbformat": 4,
 "nbformat_minor": 2
}
